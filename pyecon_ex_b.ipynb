{
 "cells": [
  {
   "cell_type": "markdown",
   "metadata": {},
   "source": [
    "# Exercises B\n",
    "_Version: April 28, 2019, see_ [PyEcon.org](https://pyecon.org)."
   ]
  },
  {
   "cell_type": "markdown",
   "metadata": {},
   "source": [
    "### Exercise 1: NHL Hockey\n",
    "The file `nhl1617.txt` contains data of all (non-goalie) players in the NHL who had at least some _ice time_, i.e. playing time, in the 2016/2017 regular season - without play offs. Load the CSV data of the file `nhl1617.txt` in Python using `open` and further string transformations (_see below_). Try to cope with the huge string and allocate the information to a dictionary. Use the column names of the dataset as keys for the dictionary.\n",
    "\n",
    "Solve these tasks using only a dictionary consisting of lists but **not using** _pandas_:\n",
    "\n",
    "1. How many players have been recorded?\n",
    "1. A column _points_ (\"P\") is missing in the data. The number of points of a player is defined as the sum of his _goals_ (\"G\") and _assists_ (\"A\"). Add the points to your dictionary.\n",
    "1. Who is the top scorer in terms of points?\n",
    "1. How many German (non-goalie) players had some ice time in there 2016/2017 regular season? _Hint: Nationality of a player can be found in the dictionary entry \"Nat\". Germans are indicated by \"DEU\"._\n",
    "1. What are their names? *Hint: Names can be found in th entry \"Last_Name\" and \"First_Name\".*\n",
    "1. Who performed best among the German players in terms of points (\"P\")?\n",
    "1. How many points (\"P\") did he have?\n",
    "1. How well did he perform in the entire league? Put differently, what was his rank in terms of points?\n",
    "1. Find the top ten scorers (in terms of points) and print them including their number of point and their respective team.\n",
    "1. What are the three countries with the most players originating from?\n",
    "\n",
    "If you feel comfortable looping through dictionaries and lists, re-implement your codes **using** _pandas_."
   ]
  },
  {
   "cell_type": "code",
   "execution_count": 1,
   "metadata": {
    "scrolled": true
   },
   "outputs": [
    {
     "data": {
      "text/plain": [
       "['Abbott',\n",
       " 'Abdelkader',\n",
       " 'Aberg',\n",
       " 'Acciari',\n",
       " 'Agostino',\n",
       " 'Aho',\n",
       " 'Alzner',\n",
       " 'Anderson',\n",
       " 'Andersson',\n",
       " 'Andreoff']"
      ]
     },
     "execution_count": 1,
     "metadata": {},
     "output_type": "execute_result"
    }
   ],
   "source": [
    "with open(\"data/nhl1617.txt\") as f:\n",
    "    data = f.read()\n",
    "data = data.replace('\"', '')\n",
    "data = data.splitlines()\n",
    "var_names = data[0]\n",
    "var_names = var_names.rsplit(\";\")\n",
    "data.pop(0)\n",
    "NHL = {}\n",
    "for keys in var_names:\n",
    "    NHL[keys] = []\n",
    "for line in data:\n",
    "    line = line.rsplit(';')\n",
    "    for info, keys in zip(line, NHL):\n",
    "        NHL[keys].append(info)\n",
    "NHL[\"Last_Name\"][:10]"
   ]
  },
  {
   "cell_type": "code",
   "execution_count": 2,
   "metadata": {},
   "outputs": [
    {
     "name": "stdout",
     "output_type": "stream",
     "text": [
      "888\n"
     ]
    }
   ],
   "source": [
    "#How many players have been recorded?\n",
    "noplayers = len(NHL['Last_Name'])\n",
    "print(noplayers)"
   ]
  },
  {
   "cell_type": "code",
   "execution_count": 3,
   "metadata": {},
   "outputs": [
    {
     "data": {
      "text/plain": [
       "[0, 21, 2, 5, 3]"
      ]
     },
     "execution_count": 3,
     "metadata": {},
     "output_type": "execute_result"
    }
   ],
   "source": [
    "#Creating the points column called 'P'\n",
    "#P, new array\n",
    "NHL['P']=[]\n",
    "for G, A in zip(NHL['G'], NHL['A']):\n",
    "    NHL['P'].append(int(G)+int(A))\n",
    "#To check its worked, print first 5\n",
    "NHL['P'][:5]"
   ]
  },
  {
   "cell_type": "code",
   "execution_count": 4,
   "metadata": {},
   "outputs": [
    {
     "name": "stdout",
     "output_type": "stream",
     "text": [
      "The top scoring player is:\n",
      "Connor McDavid\n"
     ]
    }
   ],
   "source": [
    "#Find the top scorer\n",
    "#Finding the maximum points in the column 'P'\n",
    "maxpoints = max(NHL['P'])\n",
    "#Finding the rows that these points are on\n",
    "row = [i for i in range(noplayers) if NHL['P'][i]== maxpoints]\n",
    "if len(row)==1:\n",
    "    print('The top scoring player is:')\n",
    "else:\n",
    "    print('The top scoring players are:')\n",
    "#Printing the name(s) of the top scoring player(S) \n",
    "for i in row:\n",
    "    print(f\"{NHL['First_Name'][i]} {NHL['Last_Name'][i]}\")"
   ]
  },
  {
   "cell_type": "code",
   "execution_count": 5,
   "metadata": {},
   "outputs": [
    {
     "name": "stdout",
     "output_type": "stream",
     "text": [
      "There are 5 German players\n"
     ]
    }
   ],
   "source": [
    "#Number of German players\n",
    "german = [i for i in range(noplayers) if NHL[\"Nat\"][i] == \"DEU\"]\n",
    "print(\"There are\", len(german), \"German players\")"
   ]
  },
  {
   "cell_type": "code",
   "execution_count": 6,
   "metadata": {},
   "outputs": [
    {
     "name": "stdout",
     "output_type": "stream",
     "text": [
      "The Germans players are:\n",
      "Leon Draisaitl\n",
      "Korbinian Holzer\n",
      "Tom Kuhnhackl\n",
      "Tobias Rieder\n",
      "Dennis Seidenberg\n"
     ]
    }
   ],
   "source": [
    "#Finding the names of the German players\n",
    "if len(german)==1:\n",
    "    print('The German player is:')\n",
    "else:\n",
    "    print('The Germans players are:')\n",
    "#Printing the name(s) of the German player(S) \n",
    "for i in german:\n",
    "    print(f\"{NHL['First_Name'][i]} {NHL['Last_Name'][i]}\")"
   ]
  },
  {
   "cell_type": "code",
   "execution_count": 7,
   "metadata": {},
   "outputs": [
    {
     "name": "stdout",
     "output_type": "stream",
     "text": [
      "Leon Draisaitl was the best performing German player\n"
     ]
    }
   ],
   "source": [
    "#Which German player scored the most points?\n",
    "germanpoints = [NHL['P'][i] for i in german]\n",
    "#print(\"The German points are\",germanpoints) - testing to see if it got the points\n",
    "#Finding the maximum points of the Germans\n",
    "gpointsmax = max(germanpoints)\n",
    "#Finding the row\n",
    "topg = [i for i in range(noplayers) if NHL['P'][i]== gpointsmax]\n",
    "for i in topg:\n",
    "    print(f\"{NHL['First_Name'][i]} {NHL['Last_Name'][i]}\",\"was the best performing German player\")"
   ]
  },
  {
   "cell_type": "code",
   "execution_count": 8,
   "metadata": {},
   "outputs": [
    {
     "name": "stdout",
     "output_type": "stream",
     "text": [
      "Leon Draisaitl got 77 points\n"
     ]
    }
   ],
   "source": [
    "#How many points did he have?\n",
    "#Finding the maximum points of the Germans\n",
    "gpointsmax = max(germanpoints)\n",
    "#Finding the row\n",
    "topg = [i for i in range(noplayers) if NHL['P'][i]== gpointsmax]\n",
    "for i in topg:\n",
    "    print(f\"{NHL['First_Name'][i]} {NHL['Last_Name'][i]}\",\"got\", gpointsmax, \"points\")"
   ]
  },
  {
   "cell_type": "code",
   "execution_count": 9,
   "metadata": {},
   "outputs": [
    {
     "name": "stdout",
     "output_type": "stream",
     "text": [
      "Leon Draisaitl ranked 8 th overall in the league based on points\n"
     ]
    }
   ],
   "source": [
    "#Best German players rank in total league based on points\n",
    "#Top G's points is under variable 'gpointsmax'\n",
    "player = \"Leon Draisaitl\"\n",
    "#Start ranking at 1 for first\n",
    "ranking = 1\n",
    "for i in NHL['P']:\n",
    "    if i > gpointsmax:\n",
    "        ranking = ranking + 1\n",
    "    else:\n",
    "        ranking = ranking\n",
    "print(player, \"ranked\", ranking, \"th overall in the league based on points\")\n"
   ]
  },
  {
   "cell_type": "code",
   "execution_count": 10,
   "metadata": {
    "scrolled": false
   },
   "outputs": [
    {
     "name": "stdout",
     "output_type": "stream",
     "text": [
      "Connor McDavid - 100 points - EDM\n",
      "Sidney Crosby - 89 points - PIT\n",
      "Patrick Kane - 89 points - CHI\n",
      "Nicklas Backstrom - 86 points - WSH\n",
      "Nikita Kucherov - 85 points - T.B\n",
      "Brad Marchand - 85 points - BOS\n",
      "Mark Scheifele - 82 points - WPG\n",
      "Leon Draisaitl - 77 points - EDM\n",
      "Brent Burns - 76 points - S.J\n",
      "Vladimir Tarasenko - 75 points - STL\n"
     ]
    }
   ],
   "source": [
    "#Find 10 top points scores with the team/nationality\n",
    "#Copies the P list\n",
    "sortp = NHL['P'].copy()\n",
    "#Putting it in order of smallest to largest\n",
    "sortp.sort()\n",
    "\n",
    "#Flip list so it is from largest to smallest\n",
    "sortp1 = list(reversed(sortp))\n",
    "\n",
    "for n in range(0,10):\n",
    "    if sortp1[n]==sortp1[n+1]:\n",
    "        next\n",
    "    else:\n",
    "        for i in range(noplayers):\n",
    "            if NHL['P'][i]==sortp1[n]:\n",
    "                team = NHL['Team'][i]\n",
    "                print(f\"{NHL['First_Name'][i]} {NHL['Last_Name'][i]} -\",sortp1[n], \"points -\", team)\n",
    "            else:\n",
    "                continue\n",
    "       "
   ]
  },
  {
   "cell_type": "code",
   "execution_count": 11,
   "metadata": {},
   "outputs": [
    {
     "name": "stdout",
     "output_type": "stream",
     "text": [
      "[('CAN', 413), ('USA', 243), ('SWE', 79)]\n",
      "\n",
      "CAN: 413\n",
      "USA: 243\n",
      "SWE: 79\n"
     ]
    }
   ],
   "source": [
    "#What are the 3 countries with the most players originating from them?\n",
    "countriescount={}\n",
    "\n",
    "for nation in NHL['Nat']:\n",
    "    if nation in countriescount:\n",
    "        countriescount[nation]= countriescount[nation]+1\n",
    "    else:\n",
    "        countriescount[nation]=1\n",
    "\n",
    "#NOTES\n",
    "#key=lambda x: x[1] -- this arranges it by the second column (saying use x as index 1 essentially)\n",
    "#sorted(list.items()) -- allows you to sort strings (alphabetically/numerically depending on what data it is) rather than integers/decimals\n",
    "#reverse=True -- reverses the list rather than doing my method below, which does also work\n",
    "\n",
    "sortedcountries = sorted(countriescount.items(), key = lambda x: x[1])\n",
    "orderedc = list(reversed(sortedcountries))\n",
    "\n",
    "top3 = orderedc[0:3]\n",
    "#Prints the first 3 nations\n",
    "print(orderedc[0:3])\n",
    "\n",
    "print('')\n",
    "#How to print more fancy and nicer\n",
    "for nation, count in top3:\n",
    "    print(f\"{nation}: {count}\")"
   ]
  },
  {
   "cell_type": "markdown",
   "metadata": {},
   "source": [
    "### Exercise 2: Same sex marriage - \"Ehe für Alle\"\n",
    "The file `data/votings.txt` contains the voting behavior of all members of the german parliament regarding a draft that aimed to legalise same sex marriage. Party membership is also part of the dataset.\n",
    "\n",
    "The following list contains the ministers: ['Merkel', 'Altmaier', 'Friedrich, Dr.', 'Leyen', 'Schmidt, Christian', 'Dobrindt', 'Maizière, Dr.', 'Schäuble']\n",
    "\n",
    "Note that _Wanka_ was not part of the German parliament. _Gröhe_ and _Müller_ did not participate in the poll.\n",
    "\n",
    "1. We are interested in the share of voting in favor of same sex marriage grouped by party membership.\n",
    "1. Display the votings of the members of the CDU/CSU who were also part of the top-level administration."
   ]
  },
  {
   "cell_type": "code",
   "execution_count": 42,
   "metadata": {},
   "outputs": [],
   "source": [
    "names = ['Merkel', 'Altmaier', 'Friedrich, Dr.', 'Leyen', 'Schmidt, Christian',\n",
    "         'Dobrindt', 'Maizière, Dr.', 'Schäuble']"
   ]
  },
  {
   "cell_type": "code",
   "execution_count": 12,
   "metadata": {},
   "outputs": [],
   "source": [
    "#Opening and importing the data\n",
    "with open(\"data/votings.txt\") as f:\n",
    "    data = f.read()\n",
    "data = data.replace('\"', '')\n",
    "data = data.splitlines()\n",
    "var_names = data[0]\n",
    "var_names = var_names.rsplit(';')\n",
    "data.pop(0)\n",
    "vote = {}\n",
    "for keys in var_names:\n",
    "    vote[keys] = []\n",
    "for line in data:\n",
    "    line = line.rsplit(';')\n",
    "    for info, keys in zip(line, vote):\n",
    "        vote[keys].append(info)"
   ]
  },
  {
   "cell_type": "code",
   "execution_count": 38,
   "metadata": {
    "scrolled": false
   },
   "outputs": [
    {
     "name": "stdout",
     "output_type": "stream",
     "text": [
      "The grouped data with the frequency, including the non voters:\n",
      "\n",
      "                         Frequency\n",
      "Party        Vote                 \n",
      "B90/Grüne    Ja                 63\n",
      "CDU/CSU      Enthalten           4\n",
      "             Ja                 75\n",
      "             Nein              225\n",
      "             Nicht abg.          5\n",
      "Die Linke    Ja                 63\n",
      "             Nicht abg.          1\n",
      "SPD          Ja                192\n",
      "             Nicht abg.          1\n",
      "fraktionslos Nein                1\n"
     ]
    },
    {
     "data": {
      "text/html": [
       "<div>\n",
       "<style scoped>\n",
       "    .dataframe tbody tr th:only-of-type {\n",
       "        vertical-align: middle;\n",
       "    }\n",
       "\n",
       "    .dataframe tbody tr th {\n",
       "        vertical-align: top;\n",
       "    }\n",
       "\n",
       "    .dataframe thead th {\n",
       "        text-align: right;\n",
       "    }\n",
       "</style>\n",
       "<table border=\"1\" class=\"dataframe\">\n",
       "  <thead>\n",
       "    <tr style=\"text-align: right;\">\n",
       "      <th></th>\n",
       "      <th></th>\n",
       "      <th>Frequency</th>\n",
       "      <th>Proportion</th>\n",
       "    </tr>\n",
       "    <tr>\n",
       "      <th>Party</th>\n",
       "      <th>Vote</th>\n",
       "      <th></th>\n",
       "      <th></th>\n",
       "    </tr>\n",
       "  </thead>\n",
       "  <tbody>\n",
       "    <tr>\n",
       "      <th>B90/Grüne</th>\n",
       "      <th>Ja</th>\n",
       "      <td>63</td>\n",
       "      <td>100.000000</td>\n",
       "    </tr>\n",
       "    <tr>\n",
       "      <th rowspan=\"3\" valign=\"top\">CDU/CSU</th>\n",
       "      <th>Enthalten</th>\n",
       "      <td>4</td>\n",
       "      <td>1.315789</td>\n",
       "    </tr>\n",
       "    <tr>\n",
       "      <th>Ja</th>\n",
       "      <td>75</td>\n",
       "      <td>24.671053</td>\n",
       "    </tr>\n",
       "    <tr>\n",
       "      <th>Nein</th>\n",
       "      <td>225</td>\n",
       "      <td>74.013158</td>\n",
       "    </tr>\n",
       "    <tr>\n",
       "      <th>Die Linke</th>\n",
       "      <th>Ja</th>\n",
       "      <td>63</td>\n",
       "      <td>100.000000</td>\n",
       "    </tr>\n",
       "    <tr>\n",
       "      <th>SPD</th>\n",
       "      <th>Ja</th>\n",
       "      <td>192</td>\n",
       "      <td>100.000000</td>\n",
       "    </tr>\n",
       "    <tr>\n",
       "      <th>fraktionslos</th>\n",
       "      <th>Nein</th>\n",
       "      <td>1</td>\n",
       "      <td>100.000000</td>\n",
       "    </tr>\n",
       "  </tbody>\n",
       "</table>\n",
       "</div>"
      ],
      "text/plain": [
       "                        Frequency  Proportion\n",
       "Party        Vote                            \n",
       "B90/Grüne    Ja                63  100.000000\n",
       "CDU/CSU      Enthalten          4    1.315789\n",
       "             Ja                75   24.671053\n",
       "             Nein             225   74.013158\n",
       "Die Linke    Ja                63  100.000000\n",
       "SPD          Ja               192  100.000000\n",
       "fraktionslos Nein               1  100.000000"
      ]
     },
     "execution_count": 38,
     "metadata": {},
     "output_type": "execute_result"
    }
   ],
   "source": [
    "#Share of voting in favour of same sex marriage grouped by party membership\n",
    "\n",
    "#Using Pandas -- \n",
    "    #With pandas you can import and visualize financial data in only a few lines of code\n",
    "    #Have to import pandas\n",
    "import pandas as pd\n",
    "\n",
    "df = pd.read_csv(\"data/votings.txt\", sep=\";\")\n",
    "#df = data framework\n",
    "#df = using pandas to read the voting data set, \n",
    "#sep = separates the columns so it can differentiate and doesn't then think its all one column when importing the data\n",
    "\n",
    "#variable votes\n",
    "#votes is going to be the new data set that is being manipulated using the larger data set\n",
    "#the votes variable is the grouped data set\n",
    "#df.groupby = using the data framework, group the data by the columns named and count, into a new column\n",
    "#votes.columns = name the votes column 'frequency'\n",
    "#display votes\n",
    "votes = df.groupby([\"Party\", \"Vote\"]).count()\n",
    "votes.columns = [\"Frequency\"]\n",
    "print(\"The grouped data with the frequency, including the non voters:\")\n",
    "print(\"\")\n",
    "print(votes)\n",
    "\n",
    "#Removing the non-voters Gröhe and Müller\n",
    "#The not votes are - 'nicht abg' - translated means no vote\n",
    "#search the df.votes to find and remove the 'nicht abg' in the votes column\n",
    "#recalculating the votes but without counting 'nicht abg'\n",
    "avotes = df[df.Vote != \"Nicht abg.\"].groupby([\"Party\", \"Vote\"]).count()\n",
    "#naming the counts data column\n",
    "avotes.columns = [\"Frequency\"]\n",
    "#adding the column proportions and the formula calculates the proportions per party, x100 for percentage\n",
    "avotes[\"Proportion\"] = (avotes / avotes.groupby(level=0).sum())*100\n",
    "#printing the data\n",
    "avotes"
   ]
  },
  {
   "cell_type": "code",
   "execution_count": 54,
   "metadata": {},
   "outputs": [
    {
     "name": "stdout",
     "output_type": "stream",
     "text": [
      "{'Die Linke': 1.0, 'SPD': 1.0, 'CDU/CSU': 0.24671052631578946, 'fraktionslos': 0.0, 'B90/Grüne': 1.0}\n"
     ]
    }
   ],
   "source": [
    "# Solution without pandas\n",
    "\n",
    "#Opening the data set\n",
    "with open(\"data/votings.txt\") as f:\n",
    "    data = f.read()\n",
    "data = data.replace('\"', '')\n",
    "data = data.splitlines()\n",
    "var_names = data[0]\n",
    "var_names = var_names.rsplit(';')\n",
    "data.pop(0)\n",
    "\n",
    "#appending the data from the vote column\n",
    "vote = {}\n",
    "for keys in var_names:\n",
    "    vote[keys] = []\n",
    "for line in data:\n",
    "    line = line.rsplit(';')\n",
    "    for info, keys in zip(line, vote):\n",
    "        vote[keys].append(info)\n",
    "        \n",
    "#data set parties - and goes through the parties and filters out any that didn't vote ja\n",
    "parties = {}\n",
    "for party in list(set(vote[\"Party\"])):\n",
    "    parties[party] = []\n",
    "for party in parties:\n",
    "    num_assembly = [1 for i, j in zip(vote[\"Vote\"], vote[\"Party\"])\n",
    "                    if i != \"Nicht abg.\" and j == party]\n",
    "    num_assembly = sum(num_assembly)\n",
    "    share = [1 for i, j in zip(vote[\"Vote\"], vote[\"Party\"])\n",
    "             if i == \"Ja\" and j == party]\n",
    "    share = sum(share) / num_assembly\n",
    "    parties[party] = share\n",
    "print(parties)"
   ]
  },
  {
   "cell_type": "code",
   "execution_count": 59,
   "metadata": {},
   "outputs": [
    {
     "name": "stdout",
     "output_type": "stream",
     "text": [
      " Peter Altmaier voted \"Ja\".\n",
      " Alexander Dobrindt voted \"Nein\".\n",
      " Dr. Hans-Peter Friedrich voted \"Nein\".\n",
      " Dr. Ursula von der Leyen voted \"Ja\".\n",
      " Dr. Thomas de Maizière voted \"Nein\".\n",
      " Dr. Angela Merkel voted \"Nein\".\n",
      " Dr. Wolfgang Schäuble voted \"Nein\".\n",
      " Christian Schmidt voted \"Nein\".\n"
     ]
    }
   ],
   "source": [
    "#Display the voting of the ministers from the CDU/CSU party\n",
    "\n",
    "ministers = []\n",
    "\n",
    "#names - data set at the top already done straight after tasks\n",
    "#go through the length of the data set\n",
    "    #going through the names\n",
    "        #if the name in the names list is in the assemblyman column of the data set\n",
    "            #add that row of the name, party and vote of that minister to the ministers array\n",
    "for i in range (0,len(vote['Assemblyman'])):\n",
    "    for a in names:\n",
    "        if a in vote['Assemblyman'][i]:\n",
    "            ministers.append(i)\n",
    "\n",
    "#to display the data            \n",
    "#going through the ministers array\n",
    "    #variable for the ministers name of that column \n",
    "    #assemblyman variable which extracts the name of the minister the way it is in the data set\n",
    "    #name variable is taking just the first name of the minister\n",
    "    #second name variable puts the first name in front of the last name to make it more presentable\n",
    "    #the print statement puts it all together to display the ministers in name and what they voted\n",
    "for x in ministers:\n",
    "    assemblyman = vote['Assemblyman'][x]\n",
    "    name = assemblyman[assemblyman.find(',')+1:].replace(' ',' ')\n",
    "    name = name + ' ' + assemblyman[0:assemblyman.find(',')]\n",
    "    print(name, 'voted \"%s\".' % vote['Vote'][x])\n"
   ]
  },
  {
   "cell_type": "markdown",
   "metadata": {},
   "source": [
    "### Exercise 3: Stock market data\n",
    "1. Read the file `amzn.csv` into a DataFrame.\n",
    "1. Read the file `dji.csv` into a new DataFrame.\n",
    "1. Remove all columns in both DataFrames except _Adj Close_ and _Volume_.\n",
    "1. Rename columns to _Amzn Adj Close_, _Amzn Volume_, _Dji Adj Close_, _Dji Volume_."
   ]
  },
  {
   "cell_type": "code",
   "execution_count": 2,
   "metadata": {},
   "outputs": [],
   "source": [
    "# Enter your codes here..\n",
    "import pandas as pd"
   ]
  },
  {
   "cell_type": "code",
   "execution_count": 3,
   "metadata": {},
   "outputs": [],
   "source": [
    "#Read the file amzn.csv into a DataFrame\n",
    "amzndf = pd.read_csv(\"data/amzn.csv\", sep=\",\", index_col=0, parse_dates=True)\n",
    "#index_col=0 -- put the dates as the index, so that is comparable so when it merges, it puts the dates together as its the index\n",
    "#parse_dates=0 -- changed the dates into dates and not strings as before\n",
    "#print(amzndf)"
   ]
  },
  {
   "cell_type": "code",
   "execution_count": 4,
   "metadata": {},
   "outputs": [],
   "source": [
    "#Read the file dji.csv into a new DataFrame\n",
    "djidf = pd.read_csv(\"data/dji.csv\", sep=\",\", index_col=0, parse_dates=True)\n",
    "#print(djidf)"
   ]
  },
  {
   "cell_type": "code",
   "execution_count": 5,
   "metadata": {},
   "outputs": [],
   "source": [
    "#Remove all columns in both DataFrames except Adj close and Volume\n",
    "amzndrop = amzndf.drop(amzndf.columns[[0,1,2,3]], axis =1)\n",
    "djidrop = djidf.drop(djidf.columns[[0,1,2,3]], axis =1)\n",
    "#I have kept the date column in order to do exercise 4"
   ]
  },
  {
   "cell_type": "code",
   "execution_count": 6,
   "metadata": {},
   "outputs": [],
   "source": [
    "#Rename columns to Amzn Adj Close_, _Amzn Volume_, _Dji Adj Close_, _Dji Volume\n",
    "amzndrop1 = amzndrop.rename(columns={'Adj Close': 'Amzn Adj Close', 'Volume': 'Amzn Volume'})\n",
    "djidrop1 = djidrop.rename(columns={'Adj Close': 'Dji Adj Close', 'Volume': 'Dji Volume'})\n",
    "#print(amzndrop1)\n",
    "#print(djidrop1)"
   ]
  },
  {
   "cell_type": "markdown",
   "metadata": {},
   "source": [
    "### Exercise 4: Performances\n",
    "1. Concatenate both DataFrames along the _Date_ (rows) axis.\n",
    "1. Remove all rows which contain no data for Amazon.\n",
    "1. Let _Adj Close_ (2017-02-23) be the reference price (the base). Add two columns which give the _Adj Close_ as a percentage of the reference price.\n",
    "1. Add a column that contains the 10-days-rolling-correlation between the _Adj Close_ of Amazon and the Dji.\n",
    "1. Calculate the mean of the correlation columns."
   ]
  },
  {
   "cell_type": "code",
   "execution_count": 22,
   "metadata": {},
   "outputs": [],
   "source": [
    "#Concatenate both DF along the date axis\n",
    "alldata = pd.concat([amzndrop1, djidrop1], axis=1)\n",
    "#alldata"
   ]
  },
  {
   "cell_type": "code",
   "execution_count": 8,
   "metadata": {},
   "outputs": [],
   "source": [
    "#Remove all rows which contain no data for Amazon\n",
    "#data = alldata.dropna()\n",
    "#data"
   ]
  },
  {
   "cell_type": "code",
   "execution_count": 24,
   "metadata": {},
   "outputs": [
    {
     "name": "stdout",
     "output_type": "stream",
     "text": [
      "0.3646240224519385\n"
     ]
    },
    {
     "name": "stderr",
     "output_type": "stream",
     "text": [
      "//anaconda3/lib/python3.7/site-packages/ipykernel_launcher.py:8: SettingWithCopyWarning: \n",
      "A value is trying to be set on a copy of a slice from a DataFrame.\n",
      "Try using .loc[row_indexer,col_indexer] = value instead\n",
      "\n",
      "See the caveats in the documentation: http://pandas.pydata.org/pandas-docs/stable/indexing.html#indexing-view-versus-copy\n",
      "  \n",
      "//anaconda3/lib/python3.7/site-packages/ipykernel_launcher.py:9: SettingWithCopyWarning: \n",
      "A value is trying to be set on a copy of a slice from a DataFrame.\n",
      "Try using .loc[row_indexer,col_indexer] = value instead\n",
      "\n",
      "See the caveats in the documentation: http://pandas.pydata.org/pandas-docs/stable/indexing.html#indexing-view-versus-copy\n",
      "  if __name__ == '__main__':\n",
      "//anaconda3/lib/python3.7/site-packages/ipykernel_launcher.py:14: SettingWithCopyWarning: \n",
      "A value is trying to be set on a copy of a slice from a DataFrame.\n",
      "Try using .loc[row_indexer,col_indexer] = value instead\n",
      "\n",
      "See the caveats in the documentation: http://pandas.pydata.org/pandas-docs/stable/indexing.html#indexing-view-versus-copy\n",
      "  \n"
     ]
    }
   ],
   "source": [
    "#Let Adj Close (2017-02-23)(the first row) be the reference price (base price). Add 2 columns which give the Adj Close as a percentage of the reference price\n",
    "data1 = alldata.dropna(axis=0, how=\"any\")\n",
    "\n",
    "#Reference = data row 1 = 2017-02-23\n",
    "#data1[\"Amzn Adj Close\"][0]\n",
    "\n",
    "#Adding columns and putting in the equation for the percentage calculation\n",
    "data1[\"Amzn Percentage\"] = (data1[\"Amzn Adj Close\"] / data1[\"Amzn Adj Close\"][0]) * 100\n",
    "data1[\"Dji percentage\"] = (data1[\"Dji Adj Close\"] / data1[\"Dji Adj Close\"][0]) * 100\n",
    "\n",
    "#Adding 10-days-rolling correlation between the Adj Close of Amazon and the Dji\n",
    "#Rolling correlations are simply applying a correlation between two time series (say sales of product x and product y) as a rolling window calculation\n",
    "#10-day-rolling correlation so window = 10\n",
    "data1[\"Correlation\"] = data1[\"Amzn Adj Close\"].rolling(window=10).corr(data1[\"Dji Adj Close\"])\n",
    "\n",
    "#Calculate the mean of the correlation columns\n",
    "corrmean = data1[\"Correlation\"].mean()\n",
    "\n",
    "print(corrmean)"
   ]
  },
  {
   "cell_type": "markdown",
   "metadata": {},
   "source": [
    "### Exercise 5: Simple trading algorithm\n",
    "Consider the Amazon DataFrame.\n",
    "\n",
    "1. Add two columns containing the upper and lower Bollinger Band (10-days-rolling-mean +/- standard deviation of the 10-days-rolling-mean).\n",
    "1. Add a column which says `BUY` if the _Adj Close_ breaks through the lower band (coming from below the lower band) and says `SELL` if the _Adj Close_ falls below the upper band (coming from above the upper band).\n",
    "1. Write a function that you provide with an initial investment and that computes the total return of investment based on the signals `BUY` and `SELL`.\n",
    "    1. Specify the amount of money to invest at the beginning.\n",
    "    1. At every `BUY` signal, you spend the total amount of your money to buy Amazon stocks.\n",
    "    1. At every `SELL` signal, you sell all stocks again.\n",
    "    1. At the end of the full period, compute the total return."
   ]
  },
  {
   "cell_type": "code",
   "execution_count": null,
   "metadata": {},
   "outputs": [],
   "source": []
  }
 ],
 "metadata": {
  "kernelspec": {
   "display_name": "Python 3",
   "language": "python",
   "name": "python3"
  },
  "language_info": {
   "codemirror_mode": {
    "name": "ipython",
    "version": 3
   },
   "file_extension": ".py",
   "mimetype": "text/x-python",
   "name": "python",
   "nbconvert_exporter": "python",
   "pygments_lexer": "ipython3",
   "version": "3.7.3"
  }
 },
 "nbformat": 4,
 "nbformat_minor": 2
}
